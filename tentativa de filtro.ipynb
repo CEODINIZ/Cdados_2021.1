{
 "cells": [
  {
   "cell_type": "code",
   "execution_count": 2,
   "id": "competent-speed",
   "metadata": {},
   "outputs": [],
   "source": [
    "import math\n",
    "import pandas as pd\n",
    "import warnings\n",
    "warnings.filterwarnings(\"ignore\")\n",
    "#from time import sleep\n",
    "from tqdm import tqdm, trange"
   ]
  },
  {
   "cell_type": "code",
   "execution_count": 3,
   "id": "comparative-local",
   "metadata": {},
   "outputs": [],
   "source": [
    "#Le e separa as paginas da planilha, treinamento e teste\n",
    "sheet1, sheet2 = None, None\n",
    "xls = pd.ExcelFile(\"Pokémon.xlsx\")\n",
    "df1 = pd.read_excel(xls, 0)\n",
    "df2 = pd.read_excel(xls, 1)"
   ]
  },
  {
   "cell_type": "markdown",
   "id": "colored-print",
   "metadata": {},
   "source": [
    "### DataFrame de treinanemnto"
   ]
  },
  {
   "cell_type": "code",
   "execution_count": 4,
   "id": "palestinian-compatibility",
   "metadata": {},
   "outputs": [
    {
     "data": {
      "text/html": [
       "<div>\n",
       "<style scoped>\n",
       "    .dataframe tbody tr th:only-of-type {\n",
       "        vertical-align: middle;\n",
       "    }\n",
       "\n",
       "    .dataframe tbody tr th {\n",
       "        vertical-align: top;\n",
       "    }\n",
       "\n",
       "    .dataframe thead th {\n",
       "        text-align: right;\n",
       "    }\n",
       "</style>\n",
       "<table border=\"1\" class=\"dataframe\">\n",
       "  <thead>\n",
       "    <tr style=\"text-align: right;\">\n",
       "      <th></th>\n",
       "      <th>Treinamento</th>\n",
       "      <th>relevante</th>\n",
       "    </tr>\n",
       "  </thead>\n",
       "  <tbody>\n",
       "    <tr>\n",
       "      <th>0</th>\n",
       "      <td>besouros são nomeados em homenagem a pokémon h...</td>\n",
       "      <td>0</td>\n",
       "    </tr>\n",
       "    <tr>\n",
       "      <th>1</th>\n",
       "      <td>ash e goh ganham pokémon novos! uma nova rival...</td>\n",
       "      <td>1</td>\n",
       "    </tr>\n",
       "    <tr>\n",
       "      <th>2</th>\n",
       "      <td>alguém me dá a pelúcia do grookey pfv https://...</td>\n",
       "      <td>1</td>\n",
       "    </tr>\n",
       "    <tr>\n",
       "      <th>3</th>\n",
       "      <td>agora q eu e as minhas irmãs temos feito camin...</td>\n",
       "      <td>0</td>\n",
       "    </tr>\n",
       "    <tr>\n",
       "      <th>4</th>\n",
       "      <td>um pokémon apareceu. é um ninetales</td>\n",
       "      <td>0</td>\n",
       "    </tr>\n",
       "    <tr>\n",
       "      <th>5</th>\n",
       "      <td>chodi sem bandana poderia mto bem pertencer a ...</td>\n",
       "      <td>0</td>\n",
       "    </tr>\n",
       "    <tr>\n",
       "      <th>6</th>\n",
       "      <td>@dickmeupstepbro nah, só jogo pokémon no emula...</td>\n",
       "      <td>0</td>\n",
       "    </tr>\n",
       "    <tr>\n",
       "      <th>7</th>\n",
       "      <td>@alicorniak kkkkkkkkk nossa veio na minha cabe...</td>\n",
       "      <td>0</td>\n",
       "    </tr>\n",
       "    <tr>\n",
       "      <th>8</th>\n",
       "      <td>boa tarde família!!! tudo belezinha? hoje abri...</td>\n",
       "      <td>1</td>\n",
       "    </tr>\n",
       "    <tr>\n",
       "      <th>9</th>\n",
       "      <td>eu odeio pokemon https://t.co/rmsdh9ee30</td>\n",
       "      <td>0</td>\n",
       "    </tr>\n",
       "  </tbody>\n",
       "</table>\n",
       "</div>"
      ],
      "text/plain": [
       "                                         Treinamento  relevante\n",
       "0  besouros são nomeados em homenagem a pokémon h...          0\n",
       "1  ash e goh ganham pokémon novos! uma nova rival...          1\n",
       "2  alguém me dá a pelúcia do grookey pfv https://...          1\n",
       "3  agora q eu e as minhas irmãs temos feito camin...          0\n",
       "4                um pokémon apareceu. é um ninetales          0\n",
       "5  chodi sem bandana poderia mto bem pertencer a ...          0\n",
       "6  @dickmeupstepbro nah, só jogo pokémon no emula...          0\n",
       "7  @alicorniak kkkkkkkkk nossa veio na minha cabe...          0\n",
       "8  boa tarde família!!! tudo belezinha? hoje abri...          1\n",
       "9           eu odeio pokemon https://t.co/rmsdh9ee30          0"
      ]
     },
     "execution_count": 4,
     "metadata": {},
     "output_type": "execute_result"
    }
   ],
   "source": [
    "df1.head(10)"
   ]
  },
  {
   "cell_type": "code",
   "execution_count": 5,
   "id": "athletic-millennium",
   "metadata": {},
   "outputs": [],
   "source": [
    "dados = df1.rename(columns = {\"Treinamento\": \"treinamento\", \"relevante\": \"nota\"})"
   ]
  },
  {
   "cell_type": "code",
   "execution_count": 6,
   "id": "common-brook",
   "metadata": {},
   "outputs": [
    {
     "data": {
      "text/html": [
       "<div>\n",
       "<style scoped>\n",
       "    .dataframe tbody tr th:only-of-type {\n",
       "        vertical-align: middle;\n",
       "    }\n",
       "\n",
       "    .dataframe tbody tr th {\n",
       "        vertical-align: top;\n",
       "    }\n",
       "\n",
       "    .dataframe thead th {\n",
       "        text-align: right;\n",
       "    }\n",
       "</style>\n",
       "<table border=\"1\" class=\"dataframe\">\n",
       "  <thead>\n",
       "    <tr style=\"text-align: right;\">\n",
       "      <th></th>\n",
       "      <th>treinamento</th>\n",
       "      <th>nota</th>\n",
       "    </tr>\n",
       "  </thead>\n",
       "  <tbody>\n",
       "    <tr>\n",
       "      <th>0</th>\n",
       "      <td>besouros são nomeados em homenagem a pokémon h...</td>\n",
       "      <td>0</td>\n",
       "    </tr>\n",
       "    <tr>\n",
       "      <th>1</th>\n",
       "      <td>ash e goh ganham pokémon novos! uma nova rival...</td>\n",
       "      <td>1</td>\n",
       "    </tr>\n",
       "    <tr>\n",
       "      <th>2</th>\n",
       "      <td>alguém me dá a pelúcia do grookey pfv https://...</td>\n",
       "      <td>1</td>\n",
       "    </tr>\n",
       "    <tr>\n",
       "      <th>3</th>\n",
       "      <td>agora q eu e as minhas irmãs temos feito camin...</td>\n",
       "      <td>0</td>\n",
       "    </tr>\n",
       "    <tr>\n",
       "      <th>4</th>\n",
       "      <td>um pokémon apareceu. é um ninetales</td>\n",
       "      <td>0</td>\n",
       "    </tr>\n",
       "  </tbody>\n",
       "</table>\n",
       "</div>"
      ],
      "text/plain": [
       "                                         treinamento  nota\n",
       "0  besouros são nomeados em homenagem a pokémon h...     0\n",
       "1  ash e goh ganham pokémon novos! uma nova rival...     1\n",
       "2  alguém me dá a pelúcia do grookey pfv https://...     1\n",
       "3  agora q eu e as minhas irmãs temos feito camin...     0\n",
       "4                um pokémon apareceu. é um ninetales     0"
      ]
     },
     "execution_count": 6,
     "metadata": {},
     "output_type": "execute_result"
    }
   ],
   "source": [
    "# muda o nome dos indices na planilha no novo dataframe\n",
    "dados.head()"
   ]
  },
  {
   "cell_type": "code",
   "execution_count": 7,
   "id": "technological-greene",
   "metadata": {},
   "outputs": [
    {
     "name": "stdout",
     "output_type": "stream",
     "text": [
      "tweets relevante =  76\n",
      "------------------------------\n",
      "tweets irrelevantes = 224\n",
      "------------------------------\n",
      "Total de tweets =  300\n"
     ]
    }
   ],
   "source": [
    "# contagem de tweets notas(1) e irnotas(0)\n",
    "total_irr = dados.nota.value_counts()[1]\n",
    "total_rel = dados.nota.value_counts()[0]\n",
    "print(\"tweets relevante = \", total_irr)\n",
    "print(\"-\"*30)\n",
    "print(\"tweets irrelevantes =\", total_rel)\n",
    "print(\"-\"*30)\n",
    "print(\"Total de tweets = \", total_irr+total_rel)"
   ]
  },
  {
   "cell_type": "markdown",
   "id": "official-given",
   "metadata": {},
   "source": [
    "### Contagem dos dados antes do filtro:"
   ]
  },
  {
   "cell_type": "code",
   "execution_count": 8,
   "id": "sunrise-restaurant",
   "metadata": {},
   "outputs": [],
   "source": [
    "#Conta quantos caracteres cada tweet possui antes do filtro\n",
    "dados['comprimento'] = [len(t) for t in dados.treinamento]\n",
    "dados[dados.comprimento > 140].head()\n",
    "contagem = dados"
   ]
  },
  {
   "cell_type": "code",
   "execution_count": 9,
   "id": "committed-essay",
   "metadata": {},
   "outputs": [
    {
     "data": {
      "text/html": [
       "<div>\n",
       "<style scoped>\n",
       "    .dataframe tbody tr th:only-of-type {\n",
       "        vertical-align: middle;\n",
       "    }\n",
       "\n",
       "    .dataframe tbody tr th {\n",
       "        vertical-align: top;\n",
       "    }\n",
       "\n",
       "    .dataframe thead th {\n",
       "        text-align: right;\n",
       "    }\n",
       "</style>\n",
       "<table border=\"1\" class=\"dataframe\">\n",
       "  <thead>\n",
       "    <tr style=\"text-align: right;\">\n",
       "      <th></th>\n",
       "      <th>treinamento</th>\n",
       "      <th>nota</th>\n",
       "      <th>comprimento</th>\n",
       "    </tr>\n",
       "  </thead>\n",
       "  <tbody>\n",
       "    <tr>\n",
       "      <th>0</th>\n",
       "      <td>besouros são nomeados em homenagem a pokémon h...</td>\n",
       "      <td>0</td>\n",
       "      <td>68</td>\n",
       "    </tr>\n",
       "    <tr>\n",
       "      <th>1</th>\n",
       "      <td>ash e goh ganham pokémon novos! uma nova rival...</td>\n",
       "      <td>1</td>\n",
       "      <td>128</td>\n",
       "    </tr>\n",
       "    <tr>\n",
       "      <th>2</th>\n",
       "      <td>alguém me dá a pelúcia do grookey pfv https://...</td>\n",
       "      <td>1</td>\n",
       "      <td>61</td>\n",
       "    </tr>\n",
       "    <tr>\n",
       "      <th>3</th>\n",
       "      <td>agora q eu e as minhas irmãs temos feito camin...</td>\n",
       "      <td>0</td>\n",
       "      <td>148</td>\n",
       "    </tr>\n",
       "    <tr>\n",
       "      <th>4</th>\n",
       "      <td>um pokémon apareceu. é um ninetales</td>\n",
       "      <td>0</td>\n",
       "      <td>35</td>\n",
       "    </tr>\n",
       "  </tbody>\n",
       "</table>\n",
       "</div>"
      ],
      "text/plain": [
       "                                         treinamento  nota  comprimento\n",
       "0  besouros são nomeados em homenagem a pokémon h...     0           68\n",
       "1  ash e goh ganham pokémon novos! uma nova rival...     1          128\n",
       "2  alguém me dá a pelúcia do grookey pfv https://...     1           61\n",
       "3  agora q eu e as minhas irmãs temos feito camin...     0          148\n",
       "4                um pokémon apareceu. é um ninetales     0           35"
      ]
     },
     "execution_count": 9,
     "metadata": {},
     "output_type": "execute_result"
    }
   ],
   "source": [
    "contagem.head()"
   ]
  },
  {
   "cell_type": "code",
   "execution_count": 10,
   "id": "traditional-entrance",
   "metadata": {},
   "outputs": [
    {
     "data": {
      "text/html": [
       "<div>\n",
       "<style scoped>\n",
       "    .dataframe tbody tr th:only-of-type {\n",
       "        vertical-align: middle;\n",
       "    }\n",
       "\n",
       "    .dataframe tbody tr th {\n",
       "        vertical-align: top;\n",
       "    }\n",
       "\n",
       "    .dataframe thead th {\n",
       "        text-align: right;\n",
       "    }\n",
       "</style>\n",
       "<table border=\"1\" class=\"dataframe\">\n",
       "  <thead>\n",
       "    <tr style=\"text-align: right;\">\n",
       "      <th></th>\n",
       "      <th>treinamento</th>\n",
       "      <th>nota</th>\n",
       "      <th>comprimento</th>\n",
       "    </tr>\n",
       "  </thead>\n",
       "  <tbody>\n",
       "    <tr>\n",
       "      <th>0</th>\n",
       "      <td>besouros são nomeados em homenagem a pokémon h...</td>\n",
       "      <td>0</td>\n",
       "      <td>68</td>\n",
       "    </tr>\n",
       "    <tr>\n",
       "      <th>3</th>\n",
       "      <td>agora q eu e as minhas irmãs temos feito camin...</td>\n",
       "      <td>0</td>\n",
       "      <td>148</td>\n",
       "    </tr>\n",
       "    <tr>\n",
       "      <th>4</th>\n",
       "      <td>um pokémon apareceu. é um ninetales</td>\n",
       "      <td>0</td>\n",
       "      <td>35</td>\n",
       "    </tr>\n",
       "    <tr>\n",
       "      <th>5</th>\n",
       "      <td>chodi sem bandana poderia mto bem pertencer a ...</td>\n",
       "      <td>0</td>\n",
       "      <td>53</td>\n",
       "    </tr>\n",
       "    <tr>\n",
       "      <th>6</th>\n",
       "      <td>@dickmeupstepbro nah, só jogo pokémon no emula...</td>\n",
       "      <td>0</td>\n",
       "      <td>72</td>\n",
       "    </tr>\n",
       "  </tbody>\n",
       "</table>\n",
       "</div>"
      ],
      "text/plain": [
       "                                         treinamento  nota  comprimento\n",
       "0  besouros são nomeados em homenagem a pokémon h...     0           68\n",
       "3  agora q eu e as minhas irmãs temos feito camin...     0          148\n",
       "4                um pokémon apareceu. é um ninetales     0           35\n",
       "5  chodi sem bandana poderia mto bem pertencer a ...     0           53\n",
       "6  @dickmeupstepbro nah, só jogo pokémon no emula...     0           72"
      ]
     },
     "execution_count": 10,
     "metadata": {},
     "output_type": "execute_result"
    }
   ],
   "source": [
    "#dados irrelevantes\n",
    "irr = contagem[contagem.nota == 0]\n",
    "irr.head()"
   ]
  },
  {
   "cell_type": "code",
   "execution_count": 11,
   "id": "sublime-dominican",
   "metadata": {},
   "outputs": [
    {
     "data": {
      "text/html": [
       "<div>\n",
       "<style scoped>\n",
       "    .dataframe tbody tr th:only-of-type {\n",
       "        vertical-align: middle;\n",
       "    }\n",
       "\n",
       "    .dataframe tbody tr th {\n",
       "        vertical-align: top;\n",
       "    }\n",
       "\n",
       "    .dataframe thead th {\n",
       "        text-align: right;\n",
       "    }\n",
       "</style>\n",
       "<table border=\"1\" class=\"dataframe\">\n",
       "  <thead>\n",
       "    <tr style=\"text-align: right;\">\n",
       "      <th></th>\n",
       "      <th>treinamento</th>\n",
       "      <th>nota</th>\n",
       "      <th>comprimento</th>\n",
       "    </tr>\n",
       "  </thead>\n",
       "  <tbody>\n",
       "    <tr>\n",
       "      <th>1</th>\n",
       "      <td>ash e goh ganham pokémon novos! uma nova rival...</td>\n",
       "      <td>1</td>\n",
       "      <td>128</td>\n",
       "    </tr>\n",
       "    <tr>\n",
       "      <th>2</th>\n",
       "      <td>alguém me dá a pelúcia do grookey pfv https://...</td>\n",
       "      <td>1</td>\n",
       "      <td>61</td>\n",
       "    </tr>\n",
       "    <tr>\n",
       "      <th>8</th>\n",
       "      <td>boa tarde família!!! tudo belezinha? hoje abri...</td>\n",
       "      <td>1</td>\n",
       "      <td>303</td>\n",
       "    </tr>\n",
       "    <tr>\n",
       "      <th>12</th>\n",
       "      <td>anos jogando pokémon emerald e pela primeira v...</td>\n",
       "      <td>1</td>\n",
       "      <td>127</td>\n",
       "    </tr>\n",
       "    <tr>\n",
       "      <th>13</th>\n",
       "      <td>@psyzduck eu amo esse jogo, meu pokemon fav 🥺🥺</td>\n",
       "      <td>1</td>\n",
       "      <td>46</td>\n",
       "    </tr>\n",
       "  </tbody>\n",
       "</table>\n",
       "</div>"
      ],
      "text/plain": [
       "                                          treinamento  nota  comprimento\n",
       "1   ash e goh ganham pokémon novos! uma nova rival...     1          128\n",
       "2   alguém me dá a pelúcia do grookey pfv https://...     1           61\n",
       "8   boa tarde família!!! tudo belezinha? hoje abri...     1          303\n",
       "12  anos jogando pokémon emerald e pela primeira v...     1          127\n",
       "13     @psyzduck eu amo esse jogo, meu pokemon fav 🥺🥺     1           46"
      ]
     },
     "execution_count": 11,
     "metadata": {},
     "output_type": "execute_result"
    }
   ],
   "source": [
    "#dados irrelevantes\n",
    "rel = contagem[contagem.nota == 1]\n",
    "rel.head()"
   ]
  },
  {
   "cell_type": "markdown",
   "id": "protecting-firewall",
   "metadata": {},
   "source": [
    "### Filtro de tweets"
   ]
  },
  {
   "cell_type": "code",
   "execution_count": null,
   "id": "announced-authority",
   "metadata": {},
   "outputs": [],
   "source": [
    "# proximos passos:\n",
    "#transformar cada coluna do dataframe em uma lista\n",
    "\n",
    "#separar as listas de tweets, em cada lista uma lista de palavras e aplicar um filtro mais eficiente, aplicando em cada palavra e em cada letra, dentro da lista(ex:)\n",
    "# [tweet1, tweet2] --> [[t,w,e,e,t,1], [t,w,e,e,t,2]] onde cada letra representa uma palavra do tweet inteiro\n",
    "\n",
    "# transformar as listas de colunas em um dicionario e montar o dataframe\n",
    "\n",
    "# realizar as manipulacoes e montar o classificador de acordo com as tabelas relativas e absolutas\n",
    "\n",
    "# verificar quantos caracteres cada tweet perdeu, a partir disse realizar previsoes e formular hipoteisis como por exemplo: se tweets mais longos tendem a ser mais relevantes ou nao"
   ]
  },
  {
   "cell_type": "code",
   "execution_count": 1,
   "id": "ahead-dutch",
   "metadata": {},
   "outputs": [],
   "source": [
    "def filtro1(tweet):\n",
    "    string_with_nonASCII = tweet\n",
    "    encoded_string = string_with_nonASCII.encode(\"ascii\", \"ignore\")\n",
    "    decode_string = encoded_string.decode()\n",
    "    return decode_string"
   ]
  },
  {
   "cell_type": "code",
   "execution_count": 29,
   "id": "undefined-payday",
   "metadata": {},
   "outputs": [],
   "source": [
    "lista_tweet = list(contagem.treinamento)\n",
    "lista_nota = list(contagem.nota)\n",
    "lista_comprimento = list(contagem.comprimento)\n",
    "#lista_tweet = lista_tweet[0].split()\n",
    "#lista_tweet"
   ]
  },
  {
   "cell_type": "code",
   "execution_count": 31,
   "id": "simple-acceptance",
   "metadata": {},
   "outputs": [],
   "source": [
    "filtro_tweet = []\n",
    "lista_temporaria = []\n",
    "for t in range(len(lista_tweet)):\n",
    "    #print(lista_tweet[t]) #lista_tweet[t]: contem um loop com os tweets completos; precisa separa esses tweets em uma lista de listas\n",
    "    lista_temporaria.append(lista_tweet[t].split()) #lista de palavras de tweets separadas por listas de tweets"
   ]
  },
  {
   "cell_type": "code",
   "execution_count": 38,
   "id": "national-documentary",
   "metadata": {},
   "outputs": [
    {
     "name": "stdout",
     "output_type": "stream",
     "text": [
      "['besouros', 'são', 'nomeados', 'em', 'homenagem', 'a', 'pokémon', 'https://t.co/jaygm4rpgz']\n",
      "--------------------\n",
      "besouros\n"
     ]
    }
   ],
   "source": [
    "for e in lista_temporaria:\n",
    "    for e in range(lista_temporaria)"
   ]
  },
  {
   "cell_type": "code",
   "execution_count": 46,
   "id": "located-jordan",
   "metadata": {},
   "outputs": [
    {
     "ename": "IndexError",
     "evalue": "list index out of range",
     "output_type": "error",
     "traceback": [
      "\u001b[0;31m---------------------------------------------------------------------------\u001b[0m",
      "\u001b[0;31mIndexError\u001b[0m                                Traceback (most recent call last)",
      "\u001b[0;32m<ipython-input-46-91b65c98efde>\u001b[0m in \u001b[0;36m<module>\u001b[0;34m\u001b[0m\n\u001b[1;32m      2\u001b[0m     \u001b[0;31m#print(lista_temporaria[e])\u001b[0m\u001b[0;34m\u001b[0m\u001b[0;34m\u001b[0m\u001b[0;34m\u001b[0m\u001b[0m\n\u001b[1;32m      3\u001b[0m     \u001b[0;32mfor\u001b[0m \u001b[0mp\u001b[0m \u001b[0;32min\u001b[0m \u001b[0mlista_temporaria\u001b[0m\u001b[0;34m[\u001b[0m\u001b[0me\u001b[0m\u001b[0;34m]\u001b[0m\u001b[0;34m:\u001b[0m\u001b[0;34m\u001b[0m\u001b[0;34m\u001b[0m\u001b[0m\n\u001b[0;32m----> 4\u001b[0;31m         \u001b[0mprint\u001b[0m\u001b[0;34m(\u001b[0m\u001b[0mlista_temporaria\u001b[0m\u001b[0;34m[\u001b[0m\u001b[0me\u001b[0m\u001b[0;34m]\u001b[0m\u001b[0;34m[\u001b[0m\u001b[0mt\u001b[0m\u001b[0;34m]\u001b[0m\u001b[0;34m)\u001b[0m\u001b[0;34m\u001b[0m\u001b[0;34m\u001b[0m\u001b[0m\n\u001b[0m",
      "\u001b[0;31mIndexError\u001b[0m: list index out of range"
     ]
    }
   ],
   "source": [
    "for e in range(len(lista_temporaria)): #len print posicao\n",
    "    #print(lista_temporaria[e])\n",
    "    for p in lista_temporaria[e]:\n",
    "        print(lista_temporaria[e][t])"
   ]
  },
  {
   "cell_type": "code",
   "execution_count": null,
   "id": "hearing-mirror",
   "metadata": {},
   "outputs": [],
   "source": []
  },
  {
   "cell_type": "markdown",
   "id": "legal-failure",
   "metadata": {},
   "source": [
    "### Contagem dos dados apos o filtro:"
   ]
  },
  {
   "cell_type": "code",
   "execution_count": 50,
   "id": "indie-subject",
   "metadata": {},
   "outputs": [
    {
     "data": {
      "text/plain": [
       "5718"
      ]
     },
     "execution_count": 50,
     "metadata": {},
     "output_type": "execute_result"
    }
   ],
   "source": [
    "import string\n",
    "filtro_data = contagem.treinamento.str.cat()\n",
    "filtro_data = re.sub(\"[\" + string.punctuation + \"]\", \"\", filtro_data.lower())\n",
    "palavras = filtro_data.split() # lista de todas as palavras\n",
    "len(palavras)"
   ]
  },
  {
   "cell_type": "code",
   "execution_count": 44,
   "id": "offensive-binary",
   "metadata": {},
   "outputs": [],
   "source": []
  },
  {
   "cell_type": "code",
   "execution_count": 45,
   "id": "ruled-modeling",
   "metadata": {},
   "outputs": [
    {
     "data": {
      "text/html": [
       "<div>\n",
       "<style scoped>\n",
       "    .dataframe tbody tr th:only-of-type {\n",
       "        vertical-align: middle;\n",
       "    }\n",
       "\n",
       "    .dataframe tbody tr th {\n",
       "        vertical-align: top;\n",
       "    }\n",
       "\n",
       "    .dataframe thead th {\n",
       "        text-align: right;\n",
       "    }\n",
       "</style>\n",
       "<table border=\"1\" class=\"dataframe\">\n",
       "  <thead>\n",
       "    <tr style=\"text-align: right;\">\n",
       "      <th></th>\n",
       "      <th>treinamento</th>\n",
       "      <th>nota</th>\n",
       "      <th>comprimento</th>\n",
       "    </tr>\n",
       "  </thead>\n",
       "  <tbody>\n",
       "    <tr>\n",
       "      <th>0</th>\n",
       "      <td>besouros so nomeados em homenagem a pokmon htt...</td>\n",
       "      <td>0</td>\n",
       "      <td>68</td>\n",
       "    </tr>\n",
       "    <tr>\n",
       "      <th>1</th>\n",
       "      <td>ash e goh ganham pokmon novos  uma nova rivali...</td>\n",
       "      <td>1</td>\n",
       "      <td>128</td>\n",
       "    </tr>\n",
       "    <tr>\n",
       "      <th>2</th>\n",
       "      <td>algum me d a pelcia do grookey pfv https://t c...</td>\n",
       "      <td>1</td>\n",
       "      <td>61</td>\n",
       "    </tr>\n",
       "    <tr>\n",
       "      <th>3</th>\n",
       "      <td>agora q eu e as minhas irms temos feito caminh...</td>\n",
       "      <td>0</td>\n",
       "      <td>148</td>\n",
       "    </tr>\n",
       "    <tr>\n",
       "      <th>4</th>\n",
       "      <td>um pokmon apareceu   um ninetales</td>\n",
       "      <td>0</td>\n",
       "      <td>35</td>\n",
       "    </tr>\n",
       "    <tr>\n",
       "      <th>...</th>\n",
       "      <td>...</td>\n",
       "      <td>...</td>\n",
       "      <td>...</td>\n",
       "    </tr>\n",
       "    <tr>\n",
       "      <th>295</th>\n",
       "      <td>@rabisco202 @kizunyy meu anime favorito : beas...</td>\n",
       "      <td>0</td>\n",
       "      <td>89</td>\n",
       "    </tr>\n",
       "    <tr>\n",
       "      <th>296</th>\n",
       "      <td>spoiler one piece  que coincidncia o crocodile...</td>\n",
       "      <td>0</td>\n",
       "      <td>195</td>\n",
       "    </tr>\n",
       "    <tr>\n",
       "      <th>297</th>\n",
       "      <td>professor falando que a cada ano to mais elega...</td>\n",
       "      <td>0</td>\n",
       "      <td>173</td>\n",
       "    </tr>\n",
       "    <tr>\n",
       "      <th>298</th>\n",
       "      <td>momentos que entristecem qlq jogador de pokemo...</td>\n",
       "      <td>0</td>\n",
       "      <td>71</td>\n",
       "    </tr>\n",
       "    <tr>\n",
       "      <th>299</th>\n",
       "      <td>@moon00skarien n tem folga no   cosplay de pokmon</td>\n",
       "      <td>0</td>\n",
       "      <td>51</td>\n",
       "    </tr>\n",
       "  </tbody>\n",
       "</table>\n",
       "<p>300 rows × 3 columns</p>\n",
       "</div>"
      ],
      "text/plain": [
       "                                           treinamento  nota  comprimento\n",
       "0    besouros so nomeados em homenagem a pokmon htt...     0           68\n",
       "1    ash e goh ganham pokmon novos  uma nova rivali...     1          128\n",
       "2    algum me d a pelcia do grookey pfv https://t c...     1           61\n",
       "3    agora q eu e as minhas irms temos feito caminh...     0          148\n",
       "4                    um pokmon apareceu   um ninetales     0           35\n",
       "..                                                 ...   ...          ...\n",
       "295  @rabisco202 @kizunyy meu anime favorito : beas...     0           89\n",
       "296  spoiler one piece  que coincidncia o crocodile...     0          195\n",
       "297  professor falando que a cada ano to mais elega...     0          173\n",
       "298  momentos que entristecem qlq jogador de pokemo...     0           71\n",
       "299  @moon00skarien n tem folga no   cosplay de pokmon     0           51\n",
       "\n",
       "[300 rows x 3 columns]"
      ]
     },
     "execution_count": 45,
     "metadata": {},
     "output_type": "execute_result"
    }
   ],
   "source": []
  },
  {
   "cell_type": "code",
   "execution_count": null,
   "id": "characteristic-pocket",
   "metadata": {},
   "outputs": [],
   "source": []
  },
  {
   "cell_type": "code",
   "execution_count": null,
   "id": "brazilian-roman",
   "metadata": {},
   "outputs": [],
   "source": []
  },
  {
   "cell_type": "code",
   "execution_count": null,
   "id": "restricted-paraguay",
   "metadata": {},
   "outputs": [],
   "source": []
  },
  {
   "cell_type": "code",
   "execution_count": null,
   "id": "disabled-camera",
   "metadata": {},
   "outputs": [],
   "source": []
  },
  {
   "cell_type": "code",
   "execution_count": null,
   "id": "missing-channels",
   "metadata": {},
   "outputs": [],
   "source": []
  },
  {
   "cell_type": "code",
   "execution_count": null,
   "id": "urban-penny",
   "metadata": {},
   "outputs": [],
   "source": []
  },
  {
   "cell_type": "code",
   "execution_count": null,
   "id": "serial-jesus",
   "metadata": {},
   "outputs": [],
   "source": []
  },
  {
   "cell_type": "code",
   "execution_count": null,
   "id": "humanitarian-specific",
   "metadata": {},
   "outputs": [],
   "source": []
  },
  {
   "cell_type": "code",
   "execution_count": null,
   "id": "failing-boston",
   "metadata": {},
   "outputs": [],
   "source": []
  },
  {
   "cell_type": "code",
   "execution_count": null,
   "id": "exempt-acrobat",
   "metadata": {},
   "outputs": [],
   "source": []
  },
  {
   "cell_type": "code",
   "execution_count": null,
   "id": "visible-wheel",
   "metadata": {},
   "outputs": [],
   "source": []
  },
  {
   "cell_type": "markdown",
   "id": "blessed-patch",
   "metadata": {},
   "source": [
    "### DataFrame de Teste"
   ]
  },
  {
   "cell_type": "code",
   "execution_count": null,
   "id": "protected-motion",
   "metadata": {},
   "outputs": [],
   "source": [
    "df2.head()"
   ]
  },
  {
   "cell_type": "code",
   "execution_count": 4,
   "id": "charming-walnut",
   "metadata": {},
   "outputs": [],
   "source": []
  },
  {
   "cell_type": "code",
   "execution_count": null,
   "id": "silent-texture",
   "metadata": {},
   "outputs": [],
   "source": []
  }
 ],
 "metadata": {
  "kernelspec": {
   "display_name": "Python 3",
   "language": "python",
   "name": "python3"
  },
  "language_info": {
   "codemirror_mode": {
    "name": "ipython",
    "version": 3
   },
   "file_extension": ".py",
   "mimetype": "text/x-python",
   "name": "python",
   "nbconvert_exporter": "python",
   "pygments_lexer": "ipython3",
   "version": "3.8.5"
  }
 },
 "nbformat": 4,
 "nbformat_minor": 5
}
