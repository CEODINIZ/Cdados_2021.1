{
 "cells": [
  {
   "cell_type": "code",
   "execution_count": 1,
   "id": "217e1e95-0e70-4e48-8dcf-e59601adc85b",
   "metadata": {},
   "outputs": [
    {
     "name": "stdout",
     "output_type": "stream",
     "text": [
      "Num GPUs Available:  1\n"
     ]
    }
   ],
   "source": [
    "import pandas as pd\n",
    "from IPython.display import display\n",
    "import tensorflow as tf\n",
    "print(\"Num GPUs Available: \", len(tf.config.list_physical_devices('GPU')))"
   ]
  },
  {
   "cell_type": "code",
   "execution_count": 2,
   "id": "219be8d8-310b-4708-ac2a-c200dfa38822",
   "metadata": {},
   "outputs": [
    {
     "name": "stdout",
     "output_type": "stream",
     "text": [
      "diretório: \n",
      "/home/cloud/Tensor GPU/P1 Cdados\n",
      "\n"
     ]
    }
   ],
   "source": [
    "import os\n",
    "print(f'diretório: \\n{os.getcwd()}\\n')"
   ]
  },
  {
   "cell_type": "code",
   "execution_count": 3,
   "id": "8118281c-3c9e-4c35-a01f-39a88f21cde3",
   "metadata": {},
   "outputs": [],
   "source": [
    "#Le e separa as paginas da planilha, treinamento e teste\n",
    "#sheet1, sheet2 = None, None\n",
    "xls = pd.ExcelFile(\"Pokémon.xlsx\")\n",
    "df1 = pd.read_excel(xls, 0) #pagina 1 da planilha\n",
    "df2 = pd.read_excel(xls, 1) #oagina 2 da polanilha\n",
    "#print(\"Pagina 1 Treinamento:\", df1.shape)\n",
    "#print(\"Pagina 2 Teste:\", df2.shape)"
   ]
  },
  {
   "cell_type": "code",
   "execution_count": 4,
   "id": "0d20575d-566e-4905-a81c-c5e79be49cac",
   "metadata": {},
   "outputs": [
    {
     "data": {
      "text/html": [
       "<div>\n",
       "<style scoped>\n",
       "    .dataframe tbody tr th:only-of-type {\n",
       "        vertical-align: middle;\n",
       "    }\n",
       "\n",
       "    .dataframe tbody tr th {\n",
       "        vertical-align: top;\n",
       "    }\n",
       "\n",
       "    .dataframe thead th {\n",
       "        text-align: right;\n",
       "    }\n",
       "</style>\n",
       "<table border=\"1\" class=\"dataframe\">\n",
       "  <thead>\n",
       "    <tr style=\"text-align: right;\">\n",
       "      <th></th>\n",
       "      <th>Treinamento</th>\n",
       "      <th>relevante</th>\n",
       "    </tr>\n",
       "  </thead>\n",
       "  <tbody>\n",
       "    <tr>\n",
       "      <th>0</th>\n",
       "      <td>besouros são nomeados em homenagem a pokémon h...</td>\n",
       "      <td>0</td>\n",
       "    </tr>\n",
       "    <tr>\n",
       "      <th>1</th>\n",
       "      <td>ash e goh ganham pokémon novos! uma nova rival...</td>\n",
       "      <td>1</td>\n",
       "    </tr>\n",
       "    <tr>\n",
       "      <th>2</th>\n",
       "      <td>alguém me dá a pelúcia do grookey pfv https://...</td>\n",
       "      <td>1</td>\n",
       "    </tr>\n",
       "    <tr>\n",
       "      <th>3</th>\n",
       "      <td>agora q eu e as minhas irmãs temos feito camin...</td>\n",
       "      <td>0</td>\n",
       "    </tr>\n",
       "    <tr>\n",
       "      <th>4</th>\n",
       "      <td>um pokémon apareceu. é um ninetales</td>\n",
       "      <td>0</td>\n",
       "    </tr>\n",
       "  </tbody>\n",
       "</table>\n",
       "</div>"
      ],
      "text/plain": [
       "                                         Treinamento  relevante\n",
       "0  besouros são nomeados em homenagem a pokémon h...          0\n",
       "1  ash e goh ganham pokémon novos! uma nova rival...          1\n",
       "2  alguém me dá a pelúcia do grookey pfv https://...          1\n",
       "3  agora q eu e as minhas irmãs temos feito camin...          0\n",
       "4                um pokémon apareceu. é um ninetales          0"
      ]
     },
     "execution_count": 4,
     "metadata": {},
     "output_type": "execute_result"
    }
   ],
   "source": [
    "dados = df1\n",
    "dados.head()"
   ]
  },
  {
   "cell_type": "code",
   "execution_count": 5,
   "id": "be7063e4-0206-4d47-9d9e-97c4763e1acc",
   "metadata": {},
   "outputs": [],
   "source": [
    "dados = df1.rename(columns = {\"Treinamento\": \"treinamento\", \"relevante\": \"nota\"})"
   ]
  },
  {
   "cell_type": "code",
   "execution_count": 6,
   "id": "2e883d31-9e7a-40a5-8335-ab0cfcf1bcb8",
   "metadata": {},
   "outputs": [
    {
     "data": {
      "text/html": [
       "<div>\n",
       "<style scoped>\n",
       "    .dataframe tbody tr th:only-of-type {\n",
       "        vertical-align: middle;\n",
       "    }\n",
       "\n",
       "    .dataframe tbody tr th {\n",
       "        vertical-align: top;\n",
       "    }\n",
       "\n",
       "    .dataframe thead th {\n",
       "        text-align: right;\n",
       "    }\n",
       "</style>\n",
       "<table border=\"1\" class=\"dataframe\">\n",
       "  <thead>\n",
       "    <tr style=\"text-align: right;\">\n",
       "      <th></th>\n",
       "      <th>treinamento</th>\n",
       "      <th>nota</th>\n",
       "      <th>comprimento</th>\n",
       "    </tr>\n",
       "  </thead>\n",
       "  <tbody>\n",
       "    <tr>\n",
       "      <th>0</th>\n",
       "      <td>besouros são nomeados em homenagem a pokémon h...</td>\n",
       "      <td>0</td>\n",
       "      <td>68</td>\n",
       "    </tr>\n",
       "    <tr>\n",
       "      <th>1</th>\n",
       "      <td>ash e goh ganham pokémon novos! uma nova rival...</td>\n",
       "      <td>1</td>\n",
       "      <td>128</td>\n",
       "    </tr>\n",
       "    <tr>\n",
       "      <th>2</th>\n",
       "      <td>alguém me dá a pelúcia do grookey pfv https://...</td>\n",
       "      <td>1</td>\n",
       "      <td>61</td>\n",
       "    </tr>\n",
       "    <tr>\n",
       "      <th>3</th>\n",
       "      <td>agora q eu e as minhas irmãs temos feito camin...</td>\n",
       "      <td>0</td>\n",
       "      <td>148</td>\n",
       "    </tr>\n",
       "    <tr>\n",
       "      <th>4</th>\n",
       "      <td>um pokémon apareceu. é um ninetales</td>\n",
       "      <td>0</td>\n",
       "      <td>35</td>\n",
       "    </tr>\n",
       "  </tbody>\n",
       "</table>\n",
       "</div>"
      ],
      "text/plain": [
       "                                         treinamento  nota  comprimento\n",
       "0  besouros são nomeados em homenagem a pokémon h...     0           68\n",
       "1  ash e goh ganham pokémon novos! uma nova rival...     1          128\n",
       "2  alguém me dá a pelúcia do grookey pfv https://...     1           61\n",
       "3  agora q eu e as minhas irmãs temos feito camin...     0          148\n",
       "4                um pokémon apareceu. é um ninetales     0           35"
      ]
     },
     "execution_count": 6,
     "metadata": {},
     "output_type": "execute_result"
    }
   ],
   "source": [
    "#Conta quantos caracteres cada tweet possui antes do filtro\n",
    "dados['comprimento'] = [len(t) for t in dados.treinamento]\n",
    "dados[dados.comprimento > 140].head()\n",
    "contagem = dados\n",
    "dados.head()"
   ]
  },
  {
   "cell_type": "code",
   "execution_count": 7,
   "id": "5684538f-fec7-42c2-8760-12fb051bbb01",
   "metadata": {},
   "outputs": [],
   "source": [
    "import string\n",
    "import re\n",
    "def filtro(tweet):\n",
    "    tweet = ''.join(t for t in tweet if t not in string.punctuation)\n",
    "    tweet = re.sub('((www\\S+)|(http\\S+))', 'urlsite', tweet)\n",
    "    tweet = re.sub(r'\\d+', 'contnum', tweet)\n",
    "    tweet = re.sub(' +',' ', tweet)\n",
    "    tweet = tweet.lower().strip()\n",
    "    return tweet\n",
    "\n",
    "#filtro de emojis\n",
    "def filtro2(tweet):\n",
    "    string_with_nonASCII = tweet\n",
    "    encoded_string = string_with_nonASCII.encode(\"ascii\", \"ignore\")\n",
    "    decode_string = encoded_string.decode()\n",
    "    return decode_string\n"
   ]
  },
  {
   "cell_type": "code",
   "execution_count": 8,
   "id": "cc2dc8f9-3436-47d6-8c58-af4b4df83b56",
   "metadata": {},
   "outputs": [],
   "source": [
    "dados[\"treinamento\"] = dados[\"treinamento\"].apply(filtro)\n",
    "dados[\"treinamento\"] = dados[\"treinamento\"].apply(filtro2)"
   ]
  },
  {
   "cell_type": "code",
   "execution_count": 9,
   "id": "2592ed72-5ab4-4cf8-ab10-e6bea50a1c90",
   "metadata": {},
   "outputs": [
    {
     "name": "stderr",
     "output_type": "stream",
     "text": [
      "<ipython-input-9-b581da50640d>:4: FutureWarning: The default value of regex will change from True to False in a future version. In addition, single character regular expressions will*not* be treated as literal strings when regex=True.\n",
      "  dados['treinamento'] = dados['treinamento'].str.replace(s, ' ')\n"
     ]
    }
   ],
   "source": [
    "#filtro de simbolos ou caracteries especiais que podem ter sobrado\n",
    "simbolos = [\"!\",'\"',\"#\",\"%\",\"&\",\"'\",\"(\",\")\",\"*\",\"+\",\",\",\"-\",\".\",\"/\",\":\",\";\",\"<\",\"=\",\">\",\"?\",\"@\",\"[\",\"\\\\\",\"]\",\"^\",\"_\",\"`\",\"{\",\"|\",\"}\",\"~\",\"–\",\"http\",\"https\"]\n",
    "for s in simbolos:\n",
    "    dados['treinamento'] = dados['treinamento'].str.replace(s, ' ')\n",
    "    dados['treinamento'] = dados['treinamento'].str.split().str.join(\" \")\n",
    "\n"
   ]
  },
  {
   "cell_type": "code",
   "execution_count": 10,
   "id": "dbb1ccb0-8a33-4374-9b52-1fa64e52d4c4",
   "metadata": {},
   "outputs": [
    {
     "data": {
      "text/html": [
       "<div>\n",
       "<style scoped>\n",
       "    .dataframe tbody tr th:only-of-type {\n",
       "        vertical-align: middle;\n",
       "    }\n",
       "\n",
       "    .dataframe tbody tr th {\n",
       "        vertical-align: top;\n",
       "    }\n",
       "\n",
       "    .dataframe thead th {\n",
       "        text-align: right;\n",
       "    }\n",
       "</style>\n",
       "<table border=\"1\" class=\"dataframe\">\n",
       "  <thead>\n",
       "    <tr style=\"text-align: right;\">\n",
       "      <th></th>\n",
       "      <th>treinamento</th>\n",
       "      <th>nota</th>\n",
       "      <th>comprimento</th>\n",
       "      <th>novo_comprimento</th>\n",
       "    </tr>\n",
       "  </thead>\n",
       "  <tbody>\n",
       "    <tr>\n",
       "      <th>0</th>\n",
       "      <td>besouros so nomeados em homenagem a pokmon url...</td>\n",
       "      <td>0</td>\n",
       "      <td>68</td>\n",
       "      <td>50</td>\n",
       "    </tr>\n",
       "    <tr>\n",
       "      <th>1</th>\n",
       "      <td>ash e goh ganham pokmon novos uma nova rivalid...</td>\n",
       "      <td>1</td>\n",
       "      <td>128</td>\n",
       "      <td>107</td>\n",
       "    </tr>\n",
       "    <tr>\n",
       "      <th>2</th>\n",
       "      <td>algum me d a pelcia do grookey pfv urlsite</td>\n",
       "      <td>1</td>\n",
       "      <td>61</td>\n",
       "      <td>42</td>\n",
       "    </tr>\n",
       "    <tr>\n",
       "      <th>3</th>\n",
       "      <td>agora q eu e as minhas irms temos feito caminh...</td>\n",
       "      <td>0</td>\n",
       "      <td>148</td>\n",
       "      <td>143</td>\n",
       "    </tr>\n",
       "    <tr>\n",
       "      <th>4</th>\n",
       "      <td>um pokmon apareceu um ninetales</td>\n",
       "      <td>0</td>\n",
       "      <td>35</td>\n",
       "      <td>31</td>\n",
       "    </tr>\n",
       "  </tbody>\n",
       "</table>\n",
       "</div>"
      ],
      "text/plain": [
       "                                         treinamento  nota  comprimento  \\\n",
       "0  besouros so nomeados em homenagem a pokmon url...     0           68   \n",
       "1  ash e goh ganham pokmon novos uma nova rivalid...     1          128   \n",
       "2         algum me d a pelcia do grookey pfv urlsite     1           61   \n",
       "3  agora q eu e as minhas irms temos feito caminh...     0          148   \n",
       "4                    um pokmon apareceu um ninetales     0           35   \n",
       "\n",
       "   novo_comprimento  \n",
       "0                50  \n",
       "1               107  \n",
       "2                42  \n",
       "3               143  \n",
       "4                31  "
      ]
     },
     "execution_count": 10,
     "metadata": {},
     "output_type": "execute_result"
    }
   ],
   "source": [
    "#Conta quantos caracteres cada tweet possui apos filtro\n",
    "dados['novo_comprimento'] = [len(t) for t in dados.treinamento]\n",
    "dados[dados.novo_comprimento > 140].head()\n",
    "dados.head()"
   ]
  },
  {
   "cell_type": "code",
   "execution_count": 11,
   "id": "cf79f396-3f45-41fc-818c-d60e859e0f5e",
   "metadata": {},
   "outputs": [
    {
     "data": {
      "text/html": [
       "<div>\n",
       "<style scoped>\n",
       "    .dataframe tbody tr th:only-of-type {\n",
       "        vertical-align: middle;\n",
       "    }\n",
       "\n",
       "    .dataframe tbody tr th {\n",
       "        vertical-align: top;\n",
       "    }\n",
       "\n",
       "    .dataframe thead th {\n",
       "        text-align: right;\n",
       "    }\n",
       "</style>\n",
       "<table border=\"1\" class=\"dataframe\">\n",
       "  <thead>\n",
       "    <tr style=\"text-align: right;\">\n",
       "      <th></th>\n",
       "      <th>treinamento</th>\n",
       "      <th>nota</th>\n",
       "    </tr>\n",
       "  </thead>\n",
       "  <tbody>\n",
       "    <tr>\n",
       "      <th>0</th>\n",
       "      <td>besouros so nomeados em homenagem a pokmon url...</td>\n",
       "      <td>0</td>\n",
       "    </tr>\n",
       "    <tr>\n",
       "      <th>1</th>\n",
       "      <td>ash e goh ganham pokmon novos uma nova rivalid...</td>\n",
       "      <td>1</td>\n",
       "    </tr>\n",
       "    <tr>\n",
       "      <th>2</th>\n",
       "      <td>algum me d a pelcia do grookey pfv urlsite</td>\n",
       "      <td>1</td>\n",
       "    </tr>\n",
       "    <tr>\n",
       "      <th>3</th>\n",
       "      <td>agora q eu e as minhas irms temos feito caminh...</td>\n",
       "      <td>0</td>\n",
       "    </tr>\n",
       "    <tr>\n",
       "      <th>4</th>\n",
       "      <td>um pokmon apareceu um ninetales</td>\n",
       "      <td>0</td>\n",
       "    </tr>\n",
       "  </tbody>\n",
       "</table>\n",
       "</div>"
      ],
      "text/plain": [
       "                                         treinamento  nota\n",
       "0  besouros so nomeados em homenagem a pokmon url...     0\n",
       "1  ash e goh ganham pokmon novos uma nova rivalid...     1\n",
       "2         algum me d a pelcia do grookey pfv urlsite     1\n",
       "3  agora q eu e as minhas irms temos feito caminh...     0\n",
       "4                    um pokmon apareceu um ninetales     0"
      ]
     },
     "execution_count": 11,
     "metadata": {},
     "output_type": "execute_result"
    }
   ],
   "source": [
    "df = dados.loc[:,[\"treinamento\", \"nota\"]]\n",
    "df.head()"
   ]
  },
  {
   "cell_type": "code",
   "execution_count": 12,
   "id": "e840ed45-9a5f-4293-95ad-b46bde78ffae",
   "metadata": {},
   "outputs": [],
   "source": [
    "df_relevante = df[df.nota == 1]\n",
    "df_irrelevante = df[df.nota == 0]"
   ]
  },
  {
   "cell_type": "code",
   "execution_count": 13,
   "id": "ffef40a3-e0f2-494a-994e-e078863a820f",
   "metadata": {},
   "outputs": [],
   "source": [
    "relevante = df_relevante.treinamento.tolist()\n",
    "\n",
    "palavra_relevante = []\n",
    "for e in relevante:\n",
    "    #tweet.append(filtro1(e).split())\n",
    "    relevante = (e.split())\n",
    "    for e in relevante:\n",
    "            palavra_relevante.append(e)\n",
    "\n",
    "serie_relevante = pd.Series(palavra_relevante)\n",
    "serie_relevante_abasoluta = serie_relevante.value_counts()\n",
    "serie_relevante_relativa = serie_relevante.value_counts(True)"
   ]
  },
  {
   "cell_type": "code",
   "execution_count": 14,
   "id": "7552398e-cb0f-4418-9d3b-a2f13e5560a9",
   "metadata": {},
   "outputs": [],
   "source": [
    "irrelevante = df_irrelevante.treinamento.tolist()\n",
    "\n",
    "palavra_irrelevante = []\n",
    "for e in irrelevante:\n",
    "    #tweet.append(filtro1(e).split())\n",
    "    irrelevante = (e.split())\n",
    "    for e in irrelevante:\n",
    "            palavra_irrelevante.append(e)\n",
    "\n",
    "serie_irrelevante = pd.Series(palavra_irrelevante)\n",
    "serie_irrelevante_abasoluta = serie_irrelevante.value_counts()\n",
    "serie_irrelevante_relativa = serie_irrelevante.value_counts(True)"
   ]
  },
  {
   "cell_type": "code",
   "execution_count": 15,
   "id": "d3ec0cf3-0ad6-4d67-b26f-27dbfe4448f3",
   "metadata": {},
   "outputs": [
    {
     "data": {
      "text/plain": [
       "5836"
      ]
     },
     "execution_count": 15,
     "metadata": {},
     "output_type": "execute_result"
    }
   ],
   "source": [
    "total_relevante = serie_relevante_abasoluta.sum()\n",
    "total_irrelevante = serie_irrelevante_abasoluta.sum()\n",
    "total_palavras = serie_relevante_abasoluta.sum() + serie_irrelevante_abasoluta.sum()\n",
    "total_palavras"
   ]
  },
  {
   "cell_type": "code",
   "execution_count": 16,
   "id": "18e66e4b-bd3d-46d1-b4d9-c07d02052946",
   "metadata": {},
   "outputs": [
    {
     "name": "stdout",
     "output_type": "stream",
     "text": [
      "A probabilidade de ser relevante é:  0.2810143934201508\n",
      "A probabilidade de ser irrelevante é:  0.7189856065798492\n",
      "Checagem:  1.0\n"
     ]
    }
   ],
   "source": [
    "prob_relevante = total_relevante/total_palavras\n",
    "prob_irrelevante = total_irrelevante/total_palavras\n",
    "checagem = prob_relevante+prob_irrelevante\n",
    "print(\"A probabilidade de ser relevante é: \", prob_relevante) # palavras\n",
    "print(\"A probabilidade de ser irrelevante é: \", prob_irrelevante) # palavras\n",
    "print(\"Checagem: \",checagem)"
   ]
  },
  {
   "cell_type": "code",
   "execution_count": 40,
   "id": "d16c1113-0f41-4082-b941-f1103ff2bdb9",
   "metadata": {},
   "outputs": [],
   "source": [
    "prob_rel = 1\n",
    "prob_irr = 1\n",
    "\n",
    "lista_tweets_relevantes = []\n",
    "lista_tweets_irrelevantes = []\n",
    "\n",
    "\n",
    "\n",
    "\n",
    "for tweet in df.treinamento:\n",
    "    tweet = tweet.split()\n",
    "    \n",
    "    for e in range(len(tweet)):\n",
    "        if tweet[e] in serie_relevante:\n",
    "            prob_rel = (serie_relevante_abasoluta[tweet[e]])/(total_palavras)\n",
    "            lista_tweets_relevantes.append(prob_rel)\n",
    "        else:\n",
    "            prob_rel = (0+1)/(total_relevante+total_palavras)\n",
    "            lista_tweets_relevantes.append(prob_irr)\n",
    "        \n",
    "        if tweet[e] in serie_irrelevante:\n",
    "            prob_irr = ((serie_irrelevante_abasoluta[tweet[e]])/(total_palavras))\n",
    "            lista_tweets_irrelevantes.append(prob_irr)\n",
    "        else:\n",
    "            prob_irr = (0+1)/(total_irrelevante+total_palavras)\n",
    "            lista_tweets_irrelevantes.append(prob_irr)\n",
    "        \n",
    "            #lista_tweets_relevantes.append(prob_relevante*prob_rel)\n",
    "            #lista_tweets_irrelevantes.append(prob_irrelevante*prob_irr)\n",
    "            \n",
    "        \n",
    "           \n",
    "            "
   ]
  },
  {
   "cell_type": "code",
   "execution_count": 47,
   "id": "82f6aee1-8c29-40f6-ac56-a13d745b10e7",
   "metadata": {},
   "outputs": [
    {
     "data": {
      "text/plain": [
       "9.968102073365231e-05"
      ]
     },
     "execution_count": 47,
     "metadata": {},
     "output_type": "execute_result"
    }
   ],
   "source": [
    "prob_irr"
   ]
  },
  {
   "cell_type": "code",
   "execution_count": 48,
   "id": "20ad2b04-d9b3-40ff-920c-8e8c0ebc9e47",
   "metadata": {},
   "outputs": [
    {
     "data": {
      "text/plain": [
       "0.2810143934201508"
      ]
     },
     "execution_count": 48,
     "metadata": {},
     "output_type": "execute_result"
    }
   ],
   "source": [
    "prob_relevante"
   ]
  },
  {
   "cell_type": "code",
   "execution_count": null,
   "id": "639f123f-0277-4d75-86e6-498e873f8581",
   "metadata": {
    "scrolled": true,
    "tags": []
   },
   "outputs": [],
   "source": []
  },
  {
   "cell_type": "code",
   "execution_count": null,
   "id": "6c6047a2-4fa5-4d65-9eba-8f764864e7d4",
   "metadata": {},
   "outputs": [],
   "source": [
    "resultado = df"
   ]
  },
  {
   "cell_type": "code",
   "execution_count": 46,
   "id": "a4e8626a-e42b-496e-9396-c0f206af9774",
   "metadata": {},
   "outputs": [
    {
     "ename": "KeyboardInterrupt",
     "evalue": "",
     "output_type": "error",
     "traceback": [
      "\u001b[0;31m---------------------------------------------------------------------------\u001b[0m",
      "\u001b[0;31mKeyboardInterrupt\u001b[0m                         Traceback (most recent call last)",
      "\u001b[0;32m<ipython-input-46-b1a5562fe323>\u001b[0m in \u001b[0;36m<module>\u001b[0;34m\u001b[0m\n\u001b[1;32m      5\u001b[0m \u001b[0;34m\u001b[0m\u001b[0m\n\u001b[1;32m      6\u001b[0m         \u001b[0;32melse\u001b[0m\u001b[0;34m:\u001b[0m\u001b[0;34m\u001b[0m\u001b[0;34m\u001b[0m\u001b[0m\n\u001b[0;32m----> 7\u001b[0;31m             \u001b[0mresultado\u001b[0m\u001b[0;34m[\u001b[0m\u001b[0;34m\"Resultado\"\u001b[0m\u001b[0;34m]\u001b[0m \u001b[0;34m=\u001b[0m \u001b[0;36m0\u001b[0m\u001b[0;34m\u001b[0m\u001b[0;34m\u001b[0m\u001b[0m\n\u001b[0m\u001b[1;32m      8\u001b[0m \u001b[0;34m\u001b[0m\u001b[0m\n",
      "\u001b[0;32m~/anaconda3/envs/tf-gpu/lib/python3.8/site-packages/pandas/core/frame.py\u001b[0m in \u001b[0;36m__setitem__\u001b[0;34m(self, key, value)\u001b[0m\n\u001b[1;32m   3146\u001b[0m \u001b[0;34m\u001b[0m\u001b[0m\n\u001b[1;32m   3147\u001b[0m     \u001b[0;32mdef\u001b[0m \u001b[0m__setitem__\u001b[0m\u001b[0;34m(\u001b[0m\u001b[0mself\u001b[0m\u001b[0;34m,\u001b[0m \u001b[0mkey\u001b[0m\u001b[0;34m,\u001b[0m \u001b[0mvalue\u001b[0m\u001b[0;34m)\u001b[0m\u001b[0;34m:\u001b[0m\u001b[0;34m\u001b[0m\u001b[0;34m\u001b[0m\u001b[0m\n\u001b[0;32m-> 3148\u001b[0;31m         \u001b[0mkey\u001b[0m \u001b[0;34m=\u001b[0m \u001b[0mcom\u001b[0m\u001b[0;34m.\u001b[0m\u001b[0mapply_if_callable\u001b[0m\u001b[0;34m(\u001b[0m\u001b[0mkey\u001b[0m\u001b[0;34m,\u001b[0m \u001b[0mself\u001b[0m\u001b[0;34m)\u001b[0m\u001b[0;34m\u001b[0m\u001b[0;34m\u001b[0m\u001b[0m\n\u001b[0m\u001b[1;32m   3149\u001b[0m \u001b[0;34m\u001b[0m\u001b[0m\n\u001b[1;32m   3150\u001b[0m         \u001b[0;31m# see if we can slice the rows\u001b[0m\u001b[0;34m\u001b[0m\u001b[0;34m\u001b[0m\u001b[0;34m\u001b[0m\u001b[0m\n",
      "\u001b[0;31mKeyboardInterrupt\u001b[0m: "
     ]
    }
   ],
   "source": [
    "for e in lista_tweets_relevantes:\n",
    "    for i in lista_tweets_irrelevantes:\n",
    "        if e/i > i/e:\n",
    "            resultado[\"Resultado\"] = 1\n",
    "            \n",
    "        else:\n",
    "            resultado[\"Resultado\"] = 0\n",
    "            "
   ]
  },
  {
   "cell_type": "markdown",
   "id": "a05a960e-df95-4062-bab5-7e459e70d096",
   "metadata": {},
   "source": [
    "### Conclusao"
   ]
  },
  {
   "cell_type": "markdown",
   "id": "8e24c519-4faf-4263-8abd-744647bef1fb",
   "metadata": {},
   "source": [
    "O classificador não funcionou como o esperado, pois mais de 90% dos itens analisados deram como irrelevante. Após Multiplas mudanças  e testes, fizemos algumas alterações pórem nesta última o classificador mostra sempre o mesmo resultado para relevantes e irrelevantes, sendo eles, 0.30 para relevantes e 9.96*10**-5 para irrelevantes.\n",
    "\n",
    "O resultado esperado seria uma lista de valores para tweets relevantes e irrelevantes com valores diferentes para cada um deles. Após este resultado esperado, as listas seriam comparadas e o sesultado seria colocado no dataframe de treinamento.\n",
    "\n",
    "Com isso, caso tivesse ocorrido sucesso nos testes, seria utilizado o dataframe de testes, e aplicado o mesmo codigo, assim poderiamos ter uma noção da porcentagem de acerto e porcentagem de erros do classificador.\n",
    "\n",
    "Caso isso tivesse funcionado, poderia ser aplicado por exemplo em provas escritas de alunos. Cada um deles escreveria texto grande com as suas palavras e isso pode ser guardado. Caso aja uma supeita de cola ou plagio, os textos poderiam ser compardas e dependendo da porcentagem poderia ser um indicio de cola para ser investigado pela coordenação por exemplo. "
   ]
  },
  {
   "cell_type": "code",
   "execution_count": null,
   "id": "75d66500-1a17-4464-84c7-0edf1ed3e93a",
   "metadata": {},
   "outputs": [],
   "source": []
  }
 ],
 "metadata": {
  "kernelspec": {
   "display_name": "Python 3",
   "language": "python",
   "name": "python3"
  },
  "language_info": {
   "codemirror_mode": {
    "name": "ipython",
    "version": 3
   },
   "file_extension": ".py",
   "mimetype": "text/x-python",
   "name": "python",
   "nbconvert_exporter": "python",
   "pygments_lexer": "ipython3",
   "version": "3.8.8"
  }
 },
 "nbformat": 4,
 "nbformat_minor": 5
}
