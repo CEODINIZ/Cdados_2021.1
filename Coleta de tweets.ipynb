{
 "cells": [
  {
   "cell_type": "markdown",
   "metadata": {},
   "source": [
    "# Projeto 1 - Ciência dos Dados"
   ]
  },
  {
   "cell_type": "markdown",
   "metadata": {},
   "source": [
    "Nome: Celso Diniz\n",
    "\n",
    "Nome: Victoria Souza"
   ]
  },
  {
   "cell_type": "markdown",
   "metadata": {},
   "source": [
    "Atenção: Serão permitidos grupos de três pessoas, mas com uma rubrica mais exigente. Grupos deste tamanho precisarão fazer um questionário de avaliação de trabalho em equipe"
   ]
  },
  {
   "cell_type": "markdown",
   "metadata": {},
   "source": [
    "___\n",
    "# Obtenção de tweets"
   ]
  },
  {
   "cell_type": "markdown",
   "metadata": {},
   "source": [
    "## Preparando o ambiente no jupyter:"
   ]
  },
  {
   "cell_type": "code",
   "execution_count": 1,
   "metadata": {},
   "outputs": [],
   "source": [
    "#%%capture\n",
    "\n",
    "#Instalando o tweepy\n",
    "#!pip install tweepy"
   ]
  },
  {
   "cell_type": "code",
   "execution_count": 2,
   "metadata": {},
   "outputs": [],
   "source": [
    "import tweepy\n",
    "import math\n",
    "import os.path\n",
    "import pandas as pd\n",
    "import json\n",
    "from random import shuffle"
   ]
  },
  {
   "cell_type": "markdown",
   "metadata": {},
   "source": [
    "___\n",
    "## Autenticando no  Twitter\n",
    "\n",
    "* Conta: ***@CeoDiniz***"
   ]
  },
  {
   "cell_type": "code",
   "execution_count": 3,
   "metadata": {},
   "outputs": [],
   "source": [
    "with open('auth.pass') as fp:    \n",
    "    data = json.load(fp)\n",
    "\n",
    "#Configurando a biblioteca. Não modificar\n",
    "auth = tweepy.OAuthHandler(data['consumer_key'], data['consumer_secret'])\n",
    "auth.set_access_token(data['access_token'], data['access_token_secret'])"
   ]
  },
  {
   "cell_type": "markdown",
   "metadata": {},
   "source": [
    "___\n",
    "## Etapas para construção da base de dados:"
   ]
  },
  {
   "cell_type": "markdown",
   "metadata": {},
   "source": [
    "### Escolha de um produto e coleta das mensagens\n",
    "\n",
    "1. Escolha de um produto e coleta das mensagens\n",
    "Após escolher um produto, vamos coletar os dados: tweets. Tenha em mente que dependendo desse produto escolhido, não haverá uma quantidade significativa de mensagens, ou ainda poder haver muitos retweets.\n",
    "As mensagens (500 no total) serão salvas em uma planilha no Excel. Se você for usar três categorias, use pelo menos 750 no total.\n"
   ]
  },
  {
   "cell_type": "code",
   "execution_count": 4,
   "metadata": {},
   "outputs": [],
   "source": [
    "#-------- apenas para testes --------#\n",
    "\n",
    "#Produto escolhido:\n",
    "#produto = 'Pokémon'\n",
    "\n",
    "#Quantidade mínima de mensagens capturadas:\n",
    "#n = 500\n",
    "#Quantidade mínima de mensagens para a base de treinamento:\n",
    "#t = 300\n",
    "\n",
    "#Filtro de língua, escolha uma na tabela ISO 639-1.\n",
    "#lang = 'pt'\n"
   ]
  },
  {
   "cell_type": "code",
   "execution_count": 5,
   "metadata": {},
   "outputs": [
    {
     "name": "stdout",
     "output_type": "stream",
     "text": [
      "Lista de palavras chaves para o projeto, ['Pokémon', 'Brilliant', 'Diamond', 'Shining', 'Pearl', 'Legends']\n"
     ]
    }
   ],
   "source": [
    "#Produto escolhido: novos jogos de Pokémon (Pokémon Brilliant Diamond, Pokémon Shining Pearl, Pokémon Legends)\n",
    "\n",
    "jogos = \"Pokémon Brilliant Diamond Pokémon Shining Pearl Pokémon Legends\" #nome dos jogos\n",
    "\n",
    "\n",
    "lista_relevante = jogos.split(\" \") #separa a string com nome dos jogos em uma lista com elementos da string\n",
    "\n",
    "filtro = [] #lista vazia para filtrar nomes repetidos\n",
    "\n",
    "for e in lista_relevante: #loop para adicionar elementos sem repeticao a lista\n",
    "    if e not in filtro:\n",
    "        filtro.append(e)\n",
    "print(\"Lista de palavras chaves para o projeto,\", filtro) #lista de nomes relevantes para aumentar a precisao ao longo do projeto."
   ]
  },
  {
   "cell_type": "code",
   "execution_count": 6,
   "metadata": {},
   "outputs": [
    {
     "data": {
      "text/plain": [
       "str"
      ]
     },
     "execution_count": 6,
     "metadata": {},
     "output_type": "execute_result"
    }
   ],
   "source": [
    "pesquisa = ' '.join(filtro)\n",
    "type(pesquisa)"
   ]
  },
  {
   "cell_type": "markdown",
   "metadata": {},
   "source": [
    "## Sobre as linhas comentadas:\n",
    "Os comentários foram adicionados para evitar novas planilhas e prints em excesso durante testes."
   ]
  },
  {
   "cell_type": "code",
   "execution_count": 7,
   "metadata": {},
   "outputs": [],
   "source": [
    "#produto = 'Pokémon'\n",
    "\n",
    "#Quantidade mínima de mensagens capturadas:\n",
    "#n = 500\n",
    "#Quantidade mínima de mensagens para a base de treinamento:\n",
    "#t = 300\n",
    "\n",
    "#Filtro de língua, escolha uma na tabela ISO 639-1.\n",
    "#lang = 'pt'"
   ]
  },
  {
   "cell_type": "code",
   "execution_count": 8,
   "metadata": {},
   "outputs": [],
   "source": [
    "#Cria um objeto para a captura\n",
    "#api = tweepy.API(auth)\n",
    "\n",
    "#Inicia a captura, para mais detalhes: ver a documentação do tweepy\n",
    "#i = 1\n",
    "#msgs = []\n",
    "#for msg in tweepy.Cursor(api.search, q=produto, lang=lang, tweet_mode=\"extended\").items():    \n",
    "    \n",
    "#    try:\n",
    "        #Tenta acessar atributo 'retweeted_status'\n",
    "        # Se mensagem não possuir este atributo dá erro\n",
    "        # e vai para a clausula \"except\"\n",
    "#        msg.retweeted_status.full_text\n",
    "#    except AttributeError:  \n",
    "        #Entra aqui sempre que tweet não for retweet\n",
    "#        msgs.append(msg.full_text.lower())\n",
    "\n",
    "    \n",
    "#    i += 1\n",
    "    \n",
    "#    temporario=list(set(list(msgs)))\n",
    "#    if len(temporario) >= n:\n",
    "#        break\n",
    "\n",
    "#Embaralhando as mensagens para reduzir um possível viés\n",
    "#shuffle(msgs)\n",
    "#len(msgs)\n"
   ]
  },
  {
   "cell_type": "code",
   "execution_count": 9,
   "metadata": {},
   "outputs": [],
   "source": [
    "#msgs=list(set(list(msgs)))"
   ]
  },
  {
   "cell_type": "markdown",
   "metadata": {},
   "source": [
    "Salvando os dados em uma planilha Excel:"
   ]
  },
  {
   "cell_type": "code",
   "execution_count": 10,
   "metadata": {},
   "outputs": [],
   "source": [
    "#Verifica se o arquivo não existe para não substituir um conjunto pronto\n",
    "#if not os.path.isfile('./{0}.xlsx'.format(produto)):\n",
    "    \n",
    "    #Abre o arquivo para escrita\n",
    "#    writer = pd.ExcelWriter('{0}.xlsx'.format(produto))\n",
    "\n",
    "    #divide o conjunto de mensagens em duas planilhas\n",
    "#    dft = pd.DataFrame({'Treinamento' : pd.Series(msgs[:t])})\n",
    "#    dft.to_excel(excel_writer = writer, sheet_name = 'Treinamento', index = False)\n",
    "\n",
    "#    dfc = pd.DataFrame({'Teste' : pd.Series(msgs[t:])})\n",
    "#    dfc.to_excel(excel_writer = writer, sheet_name = 'Teste', index = False)\n",
    "\n",
    "    #fecha o arquivo\n",
    "#    writer.save()"
   ]
  },
  {
   "cell_type": "markdown",
   "metadata": {},
   "source": [
    "___\n",
    "### Classificando as mensagens na coragem\n",
    "\n",
    "Esta etapa é manual. Faça a mesma pelo Excel.\n",
    "\n",
    "**Importante: Caso classifique um percentual pequeno de tweets relevantes ou de não relevantes, deve voltar a este notebook e coletar mais tweets diferentes do produto escolhido pelo grupo.**\n",
    "\n",
    "\n",
    "2. Classificando as mensagens na coragem:\n",
    "Agora você deve abrir o arquivo Excel com as mensagens capturadas e classificar cada mensagem como relevante (valor 1) ou irrelevante (valor 0). Guarde essa classificação na coluna B, colocando um nome para essa coluna na célula B1.\n",
    "Fazer o mesmo na planilha de Teste.\n",
    "Caso haja um percentual muito baixo de mensagens relevantes ou de irrelevantes, selecionar mais tweets da categoria com baixo percentual. É importante que haja quantidades parecidas de mensagens relevantes e irrelevantes na base de dados treinamento.\n"
   ]
  },
  {
   "cell_type": "code",
   "execution_count": 13,
   "metadata": {},
   "outputs": [
    {
     "data": {
      "text/html": [
       "<div>\n",
       "<style scoped>\n",
       "    .dataframe tbody tr th:only-of-type {\n",
       "        vertical-align: middle;\n",
       "    }\n",
       "\n",
       "    .dataframe tbody tr th {\n",
       "        vertical-align: top;\n",
       "    }\n",
       "\n",
       "    .dataframe thead th {\n",
       "        text-align: right;\n",
       "    }\n",
       "</style>\n",
       "<table border=\"1\" class=\"dataframe\">\n",
       "  <thead>\n",
       "    <tr style=\"text-align: right;\">\n",
       "      <th></th>\n",
       "      <th>Treinamento</th>\n",
       "    </tr>\n",
       "  </thead>\n",
       "  <tbody>\n",
       "    <tr>\n",
       "      <th>0</th>\n",
       "      <td>besouros são nomeados em homenagem a pokémon h...</td>\n",
       "    </tr>\n",
       "    <tr>\n",
       "      <th>1</th>\n",
       "      <td>ash e goh ganham pokémon novos! uma nova rival...</td>\n",
       "    </tr>\n",
       "    <tr>\n",
       "      <th>2</th>\n",
       "      <td>alguém me dá a pelúcia do grookey pfv https://...</td>\n",
       "    </tr>\n",
       "    <tr>\n",
       "      <th>3</th>\n",
       "      <td>agora q eu e as minhas irmãs temos feito camin...</td>\n",
       "    </tr>\n",
       "    <tr>\n",
       "      <th>4</th>\n",
       "      <td>um pokémon apareceu. é um ninetales</td>\n",
       "    </tr>\n",
       "  </tbody>\n",
       "</table>\n",
       "</div>"
      ],
      "text/plain": [
       "                                         Treinamento\n",
       "0  besouros são nomeados em homenagem a pokémon h...\n",
       "1  ash e goh ganham pokémon novos! uma nova rival...\n",
       "2  alguém me dá a pelúcia do grookey pfv https://...\n",
       "3  agora q eu e as minhas irmãs temos feito camin...\n",
       "4                um pokémon apareceu. é um ninetales"
      ]
     },
     "execution_count": 13,
     "metadata": {},
     "output_type": "execute_result"
    }
   ],
   "source": [
    "tweets = pd.read_excel(\"Pokémon.xlsx\") #planilha extraida\n",
    "tweets.head()"
   ]
  },
  {
   "cell_type": "code",
   "execution_count": 14,
   "metadata": {},
   "outputs": [
    {
     "data": {
      "text/html": [
       "<div>\n",
       "<style scoped>\n",
       "    .dataframe tbody tr th:only-of-type {\n",
       "        vertical-align: middle;\n",
       "    }\n",
       "\n",
       "    .dataframe tbody tr th {\n",
       "        vertical-align: top;\n",
       "    }\n",
       "\n",
       "    .dataframe thead th {\n",
       "        text-align: right;\n",
       "    }\n",
       "</style>\n",
       "<table border=\"1\" class=\"dataframe\">\n",
       "  <thead>\n",
       "    <tr style=\"text-align: right;\">\n",
       "      <th></th>\n",
       "      <th>Treinamento</th>\n",
       "      <th>relevante</th>\n",
       "    </tr>\n",
       "  </thead>\n",
       "  <tbody>\n",
       "    <tr>\n",
       "      <th>0</th>\n",
       "      <td>besouros são nomeados em homenagem a pokémon h...</td>\n",
       "      <td>0</td>\n",
       "    </tr>\n",
       "    <tr>\n",
       "      <th>1</th>\n",
       "      <td>ash e goh ganham pokémon novos! uma nova rival...</td>\n",
       "      <td>1</td>\n",
       "    </tr>\n",
       "    <tr>\n",
       "      <th>2</th>\n",
       "      <td>alguém me dá a pelúcia do grookey pfv https://...</td>\n",
       "      <td>1</td>\n",
       "    </tr>\n",
       "    <tr>\n",
       "      <th>3</th>\n",
       "      <td>agora q eu e as minhas irmãs temos feito camin...</td>\n",
       "      <td>0</td>\n",
       "    </tr>\n",
       "    <tr>\n",
       "      <th>4</th>\n",
       "      <td>um pokémon apareceu. é um ninetales</td>\n",
       "      <td>0</td>\n",
       "    </tr>\n",
       "  </tbody>\n",
       "</table>\n",
       "</div>"
      ],
      "text/plain": [
       "                                         Treinamento  relevante\n",
       "0  besouros são nomeados em homenagem a pokémon h...          0\n",
       "1  ash e goh ganham pokémon novos! uma nova rival...          1\n",
       "2  alguém me dá a pelúcia do grookey pfv https://...          1\n",
       "3  agora q eu e as minhas irmãs temos feito camin...          0\n",
       "4                um pokémon apareceu. é um ninetales          0"
      ]
     },
     "execution_count": 14,
     "metadata": {},
     "output_type": "execute_result"
    }
   ],
   "source": [
    "tweets_classificados = pd.read_excel(\"Pokémon_class.xlsx\")\n",
    "tweets_classificados.head()"
   ]
  },
  {
   "cell_type": "markdown",
   "metadata": {},
   "source": [
    "## Fontes de pesquisas:\n",
    "https://www.nintendo.com/whatsnew/detail/2021/pokemon-announces-new-video-games-pokemon-brilliant-diamond-pokemon-shining-pearl-and-pokemon-legends-arceus/"
   ]
  },
  {
   "cell_type": "code",
   "execution_count": null,
   "metadata": {},
   "outputs": [],
   "source": []
  }
 ],
 "metadata": {
  "kernelspec": {
   "display_name": "Python 3",
   "language": "python",
   "name": "python3"
  },
  "language_info": {
   "codemirror_mode": {
    "name": "ipython",
    "version": 3
   },
   "file_extension": ".py",
   "mimetype": "text/x-python",
   "name": "python",
   "nbconvert_exporter": "python",
   "pygments_lexer": "ipython3",
   "version": "3.8.5"
  }
 },
 "nbformat": 4,
 "nbformat_minor": 4
}
